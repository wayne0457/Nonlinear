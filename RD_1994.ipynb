{
 "cells": [
  {
   "cell_type": "code",
   "execution_count": 1,
   "metadata": {},
   "outputs": [],
   "source": [
    "import numpy as np\n",
    "import matplotlib.pyplot as plt \n",
    "from scipy.fft import fft2, ifft2"
   ]
  },
  {
   "cell_type": "code",
   "execution_count": 5,
   "metadata": {},
   "outputs": [
    {
     "name": "stdout",
     "output_type": "stream",
     "text": [
      "1\n",
      "1\n",
      "1\n",
      "1\n",
      "1\n",
      "1\n",
      "1\n",
      "1\n",
      "1\n",
      "1\n",
      "1\n",
      "1\n",
      "1\n",
      "1\n",
      "1\n",
      "1\n",
      "1\n",
      "1\n",
      "1\n",
      "1\n",
      "1\n",
      "1\n",
      "1\n",
      "1\n",
      "1\n",
      "1\n",
      "1\n",
      "1\n",
      "1\n",
      "1\n"
     ]
    },
    {
     "name": "stderr",
     "output_type": "stream",
     "text": [
      "/var/folders/s0/cf8vcvv57gz3gzbb4w_n9jm00000gn/T/ipykernel_71766/449042339.py:28: RuntimeWarning: overflow encountered in multiply\n",
      "  hk = B*ck*hk**2 - hk*wk + Dc * (kx**2 + ky**2)*hk + hk\n",
      "/var/folders/s0/cf8vcvv57gz3gzbb4w_n9jm00000gn/T/ipykernel_71766/449042339.py:29: RuntimeWarning: invalid value encountered in multiply\n",
      "  wk = hk*wk - A*wk + Dw * (kx**2 + ky**2)*wk + wk\n",
      "/var/folders/s0/cf8vcvv57gz3gzbb4w_n9jm00000gn/T/ipykernel_71766/449042339.py:27: RuntimeWarning: invalid value encountered in multiply\n",
      "  ck = A*wk - B*ck*hk**2 + Dc * (kx**2 + ky**2)*ck + ck\n",
      "/var/folders/s0/cf8vcvv57gz3gzbb4w_n9jm00000gn/T/ipykernel_71766/449042339.py:27: RuntimeWarning: invalid value encountered in square\n",
      "  ck = A*wk - B*ck*hk**2 + Dc * (kx**2 + ky**2)*ck + ck\n",
      "/var/folders/s0/cf8vcvv57gz3gzbb4w_n9jm00000gn/T/ipykernel_71766/449042339.py:28: RuntimeWarning: invalid value encountered in square\n",
      "  hk = B*ck*hk**2 - hk*wk + Dc * (kx**2 + ky**2)*hk + hk\n",
      "/var/folders/s0/cf8vcvv57gz3gzbb4w_n9jm00000gn/T/ipykernel_71766/449042339.py:28: RuntimeWarning: invalid value encountered in multiply\n",
      "  hk = B*ck*hk**2 - hk*wk + Dc * (kx**2 + ky**2)*hk + hk\n"
     ]
    }
   ],
   "source": [
    "Nx = 30\n",
    "Ny = 30\n",
    "Lx = 30\n",
    "Ly = 30\n",
    "dx = Lx / Nx\n",
    "dy = Ly / Ny\n",
    "\n",
    "c = np.ones((Nx, Ny))\n",
    "h = np.ones((Nx, Ny))\n",
    "w = np.ones((Nx, Ny))\n",
    "\n",
    "Dc = 1\n",
    "Dh = 1\n",
    "Dw = 1\n",
    "\n",
    "A = 1\n",
    "B = 1\n",
    "\n",
    "ck = fft2(c)\n",
    "hk = fft2(h)\n",
    "wk = fft2(w)\n",
    "\n",
    "kx = np.fft.fftfreq(Nx, dx) * np.pi * 2\n",
    "ky = np.fft.fftfreq(Ny, dy) * np.pi * 2\n",
    "\n",
    "for i in range(30):\n",
    "    ck = A*wk - B*ck*hk**2 + Dc * (kx**2 + ky**2)*ck + ck\n",
    "    hk = B*ck*hk**2 - hk*wk + Dc * (kx**2 + ky**2)*hk + hk\n",
    "    wk = hk*wk - A*wk + Dw * (kx**2 + ky**2)*wk + wk\n",
    "    plt.plot()"
   ]
  }
 ],
 "metadata": {
  "kernelspec": {
   "display_name": "Python 3",
   "language": "python",
   "name": "python3"
  },
  "language_info": {
   "codemirror_mode": {
    "name": "ipython",
    "version": 3
   },
   "file_extension": ".py",
   "mimetype": "text/x-python",
   "name": "python",
   "nbconvert_exporter": "python",
   "pygments_lexer": "ipython3",
   "version": "3.11.4"
  }
 },
 "nbformat": 4,
 "nbformat_minor": 2
}
